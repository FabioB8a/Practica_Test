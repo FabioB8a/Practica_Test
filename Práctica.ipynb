{
 "cells": [
  {
   "cell_type": "markdown",
   "metadata": {},
   "source": [
    "    FullStack developer candidates tech challenge for Junior\n",
    "    Version: 4.4\n",
    "    Banco de Bogotá\n",
    "\n",
    "    Fabio Luis Buitrago Ochoa\n",
    "\n",
    "    MD5 Hash: 64389218d215a0415e47208484807308\n",
    "    Number: 6\n"
   ]
  },
  {
   "cell_type": "markdown",
   "metadata": {},
   "source": [
    "### 1. Code Challenge 1\n",
    "\n",
    "Having a list of **n** numbers with digits in range **[0,6]**, where **n<=100**, switch all positions in **O(n)** time.\n",
    "\n",
    "If the input number contains a digit greater or equal than **S = 6**, you will delete the digit from the number.\n",
    "\n",
    "**The result should be printed in console|terminal. Please, don't use built-in sort of your language**"
   ]
  },
  {
   "cell_type": "markdown",
   "metadata": {},
   "source": [
    "#### Análisis del Problema"
   ]
  },
  {
   "cell_type": "markdown",
   "metadata": {},
   "source": [
    "El problema consiste en escribir dos algoritmos para manipular una lista de números de la siguiente manera:\n",
    "1. Eliminar los dígitos de cada número que sean mayores o iguales a un valor dado \\( S \\).\n",
    "2. Revertir la lista resultante después de aplicar la eliminación de dígitos."
   ]
  },
  {
   "cell_type": "markdown",
   "metadata": {},
   "source": [
    "#### Diseño del Problema"
   ]
  },
  {
   "cell_type": "markdown",
   "metadata": {},
   "source": [
    "**Entradas:**\n",
    "1. Una lista de números enteros \\( lst \\).\n",
    "2. Un valor entero \\( S \\).\n",
    "\n",
    "**Salidas:**\n",
    "1. Una lista de números enteros donde:\n",
    "   - Cada número en la lista ha tenido sus dígitos mayores o iguales a \\( S \\) eliminados.\n",
    "   - La lista resultante se ha revertido."
   ]
  },
  {
   "cell_type": "markdown",
   "metadata": {},
   "source": [
    "#### Algoritmo 1: `remove_digits_gte_s`"
   ]
  },
  {
   "cell_type": "markdown",
   "metadata": {},
   "source": [
    "Este algoritmo elimina los dígitos de un número que son mayores o iguales a \\( S \\).\n",
    "\n",
    "```python\n",
    "def remove_digits_gte_s(num, S):\n",
    "    num_str = str(num)\n",
    "    filtered_num_str = ''\n",
    "    for digit in num_str:\n",
    "        if int(digit) < S:\n",
    "            filtered_num_str += digit\n",
    "    return int(filtered_num_str) if filtered_num_str else None\n",
    "```"
   ]
  },
  {
   "cell_type": "markdown",
   "metadata": {},
   "source": [
    "##### Invariante\n",
    "1. La cadena `filtered_num_str` contiene solo dígitos de `num_str` que son menores que \\( S \\).\n",
    "2. La longitud de `filtered_num_str` es menor o igual a la longitud de `num_str`.\n",
    "\n",
    "##### Análisis de Complejidad\n",
    "- **Conversión a cadena:** Convertir un número a una cadena tiene una complejidad \\( O(d) \\), donde \\( d \\) es el número de dígitos en `num`.\n",
    "- **Recorrido de dígitos:** Recorrer cada dígito de la cadena tiene una complejidad \\( O(d) \\).\n",
    "- **Conversión de vuelta a entero:** Convertir la cadena filtrada de nuevo a entero tiene una complejidad \\( O(d) \\).\n",
    "\n",
    "Por lo tanto, la complejidad del algoritmo `remove_digits_gte_s` es \\( O(d) \\)."
   ]
  },
  {
   "cell_type": "markdown",
   "metadata": {},
   "source": [
    "#### Algoritmo 2: `switch_positions`"
   ]
  },
  {
   "cell_type": "markdown",
   "metadata": {},
   "source": [
    "Este algoritmo utiliza `remove_digits_gte_s` para filtrar los dígitos de cada número en una lista y luego revierte la lista resultante.\n",
    "\n",
    "```python\n",
    "def switch_positions(lst, S):\n",
    "    filtered_list = []\n",
    "    for num in lst:\n",
    "        filtered_num = remove_digits_gte_s(num, S)\n",
    "        if filtered_num is not None:\n",
    "            filtered_list.append(filtered_num)\n",
    "    \n",
    "    # Invertir la lista\n",
    "    left = 0\n",
    "    right = len(filtered_list) - 1\n",
    "    while left < right:\n",
    "        filtered_list[left], filtered_list[right] = filtered_list[right], filtered_list[left]\n",
    "        left += 1\n",
    "        right -= 1\n",
    "    \n",
    "    return filtered_list\n",
    "```"
   ]
  },
  {
   "cell_type": "markdown",
   "metadata": {},
   "source": [
    "##### Invariante\n",
    "1. La lista `filtered_list` contiene solo los números de `lst` después de eliminar los dígitos mayores o iguales a \\( S \\).\n",
    "2. El proceso de reversión asegura que `filtered_list` se invierte correctamente.\n",
    "\n",
    "##### Análisis de Complejidad\n",
    "- **Filtrado de la lista:** Para cada número en la lista de longitud \\( n \\), se llama a `remove_digits_gte_s`, lo que lleva \\( O(d) \\) tiempo por número. Esto da una complejidad total de \\( O(n * d) \\).\n",
    "- **Reversión de la lista:** Revertir una lista de longitud \\( n \\) tiene una complejidad \\( O(n) \\).\n",
    "\n",
    "Por lo tanto, la complejidad total del algoritmo `switch_positions` es \\( O(n * d) \\).\n",
    "\n",
    "Como d = 100 (el máximo de dígitos), entonces, la complejidad es es \\( O(n) \\)."
   ]
  },
  {
   "cell_type": "markdown",
   "metadata": {},
   "source": [
    "#### Implementación"
   ]
  },
  {
   "cell_type": "code",
   "execution_count": 39,
   "metadata": {},
   "outputs": [
    {
     "name": "stdout",
     "output_type": "stream",
     "text": [
      "[]\n",
      "[5, 4, 3, 2, 1]\n",
      "[40, 30, 20, 10]\n",
      "[]\n",
      "[]\n",
      "[5]\n",
      "[1, 2]\n",
      "[1, 2, 2, 3, 4, 5, 0]\n"
     ]
    }
   ],
   "source": [
    "\"\"\"Eliminar dígitos mayores o iguales a S de un número.\"\"\"\n",
    "def remove_digits_gte_s(num, S):\n",
    "    \n",
    "    num_str = str(num)\n",
    "    filtered_num_str = ''\n",
    "    for digit in num_str:\n",
    "        if int(digit) < S:\n",
    "            filtered_num_str += digit\n",
    "    return int(filtered_num_str) if filtered_num_str else None\n",
    "\n",
    "\"\"\"Cambiar posiciones de números en la lista después de eliminar dígitos >= S.\"\"\"\n",
    "def switch_positions(lst, S):\n",
    "    \n",
    "    filtered_list = []\n",
    "    for num in lst:\n",
    "        filtered_num = remove_digits_gte_s(num, S)\n",
    "        if filtered_num is not None:\n",
    "            filtered_list.append(filtered_num)\n",
    "    \n",
    "    # Invetir la lista\n",
    "    left = 0\n",
    "    right = len(filtered_list) - 1\n",
    "    while left < right:\n",
    "        filtered_list[left], filtered_list[right] = filtered_list[right], filtered_list[left]\n",
    "        left += 1\n",
    "        right -= 1\n",
    "    \n",
    "    return filtered_list\n",
    "\n",
    "# Casos de prueba\n",
    "print(switch_positions([], 6))                                  # Output: []\n",
    "print(switch_positions([1, 2, 3, 4, 5, 6], 6))                  # Output: [5, 4, 3, 2, 1]\n",
    "print(switch_positions([10, 20, 30, 40], 6))                    # Output: [40, 30, 20, 10]\n",
    "print(switch_positions([6], 6))                                 # Output: []\n",
    "print(switch_positions([66], 6))                                # Output: []\n",
    "print(switch_positions([65], 6))                                # Output: [5]\n",
    "print(switch_positions([6, 2, 1], 6))                           # Output: [1, 2]\n",
    "print(switch_positions([60, 6, 5, 4, 3, 2, 7, 7, 29, 1], 6))    # Output: [1, 2, 2, 3, 4, 5, 0]\n",
    "\n"
   ]
  },
  {
   "cell_type": "markdown",
   "metadata": {},
   "source": [
    "### 2. Code Challenge 2\n",
    "\n",
    "Write a function that takes in a non-empty array of integers sorted in ascending order and returns a new array of the same length with the squares of the original integers also sorted in ascending order. If the output number is out of the range [0, SS] (for **S = 6** the range will be **[0, 66]**), you will delete it of the output array. **Please, don’t use built-in sort of your language.**"
   ]
  },
  {
   "cell_type": "markdown",
   "metadata": {},
   "source": [
    "#### Análisis del Problema"
   ]
  },
  {
   "cell_type": "markdown",
   "metadata": {},
   "source": [
    "El problema consiste en escribir un algoritmo que tome una lista de enteros ordenados en orden ascendente, calcule los cuadrados de estos enteros, y devuelva una nueva lista con los cuadrados ordenados en orden ascendente. Además, se deben filtrar los valores que estén fuera del rango \\([0, SS]\\)."
   ]
  },
  {
   "cell_type": "markdown",
   "metadata": {},
   "source": [
    "#### Diseño del Problema"
   ]
  },
  {
   "cell_type": "markdown",
   "metadata": {},
   "source": [
    "**Entradas:**\n",
    "1. Una lista de enteros \\( arr \\) ordenados en orden ascendente.\n",
    "2. Un valor entero \\( S \\).\n",
    "\n",
    "**Salidas:**\n",
    "1. Una lista de enteros con los cuadrados de los elementos de la lista de entrada, ordenados en orden ascendente, y filtrados para que estén en el rango \\([0, SS]\\)."
   ]
  },
  {
   "cell_type": "markdown",
   "metadata": {},
   "source": [
    "#### Algoritmo: `sorted_squared_array`"
   ]
  },
  {
   "cell_type": "markdown",
   "metadata": {},
   "source": [
    "Este algoritmo utiliza dos punteros para recorrer la lista desde ambos extremos, seleccionando el cuadrado mayor y colocándolo en la posición correspondiente en la lista de resultados. Luego, filtra los valores fuera del rango \\([0, S \\times S]\\).\n",
    "\n",
    "```python\n",
    "\"\"\"Devuelve un nuevo arreglo de cuadrados de números enteros ordenados, filtrados por rango [0, SS].\"\"\"\n",
    "def sorted_squared_array(arr, S):\n",
    "    \n",
    "    arr.sort()\n",
    "\n",
    "    left = 0\n",
    "    right = len(arr) - 1\n",
    "    result = [0] * len(arr)\n",
    "    max_val = S * S\n",
    "    index = len(arr) - 1\n",
    "\n",
    "    while left <= right:\n",
    "        if abs(arr[left]) > abs(arr[right]):\n",
    "            square = arr[left] * arr[left]\n",
    "            left += 1\n",
    "        else:\n",
    "            square = arr[right] * arr[right]\n",
    "            right -= 1\n",
    "        \n",
    "        if square <= max_val:\n",
    "            result[index] = square\n",
    "            index -= 1\n",
    "    \n",
    "    # IMPORTANTE: Se filtran los 0 para que no aparezcan en el vector resultante\n",
    "    return [x for x in result if x != 0]\n",
    "```"
   ]
  },
  {
   "cell_type": "markdown",
   "metadata": {},
   "source": [
    "##### Invariante\n",
    "1. Los punteros `left` y `right` siempre se mueven hacia el centro de la lista.\n",
    "2. El array `result` se llena de atrás hacia adelante con los cuadrados de los elementos de `arr`, en orden no decreciente.\n",
    "3. Los elementos en `result` que se llenan con 0 no son considerados en el resultado final.\n",
    "\n",
    "##### Análisis de Complejidad\n",
    "- **Asignación de punteros:** Inicializar los punteros `left` y `right` toma \\( O(1) \\).\n",
    "- **Bucle principal:** El bucle `while` se ejecuta \\( O(n) \\) veces, donde \\( n \\) es la longitud de `arr`.\n",
    "- **Comparaciones y asignaciones dentro del bucle:** Cada operación dentro del bucle toma \\( O(1) \\) tiempo, ya que son comparaciones y asignaciones simples.\n",
    "- **Filtrado final:** Filtrar los ceros del resultado final toma \\( O(n) \\).\n",
    "\n",
    "Por lo tanto, la complejidad total del algoritmo `sorted_squared_array` es \\( O(n) \\)."
   ]
  },
  {
   "cell_type": "markdown",
   "metadata": {},
   "source": [
    "#### Implementación"
   ]
  },
  {
   "cell_type": "code",
   "execution_count": 14,
   "metadata": {},
   "outputs": [
    {
     "name": "stdout",
     "output_type": "stream",
     "text": [
      "Max value:  66\n",
      "[]\n",
      "Max value:  66\n",
      "[1, 4, 9, 16, 25, 36, 49]\n",
      "Max value:  66\n",
      "[4, 9, 9, 49]\n",
      "Max value:  66\n",
      "[1, 9, 16, 25, 36, 64]\n",
      "Max value:  66\n",
      "[1, 9, 25, 49]\n"
     ]
    }
   ],
   "source": [
    "\"\"\"Devuelve un nuevo arreglo de cuadrados de números enteros ordenados, filtrados por rango [0, SS].\"\"\"\n",
    "def sorted_squared_array(arr, S):\n",
    "    \n",
    "    arr.sort()\n",
    "\n",
    "    left = 0\n",
    "    right = len(arr) - 1\n",
    "    result = [0] * len(arr)\n",
    "    max_val = S * 11\n",
    "    print(\"Max value: \", max_val)\n",
    "    index = len(arr) - 1\n",
    "\n",
    "    while left <= right:\n",
    "        if abs(arr[left]) > abs(arr[right]):\n",
    "            square = arr[left] * arr[left]\n",
    "            left += 1\n",
    "        else:\n",
    "            square = arr[right] * arr[right]\n",
    "            right -= 1\n",
    "        \n",
    "        if square <= max_val:\n",
    "            result[index] = square\n",
    "            index -= 1\n",
    "    \n",
    "    # IMPORTANTE: Se filtran los 0 para que no aparezcan en el vector resultante\n",
    "    return [x for x in result if x != 0]\n",
    "\n",
    "# Casos de prueba\n",
    "print(sorted_squared_array([0], 6))                                     # Output: []\n",
    "print(sorted_squared_array([-11, -10, -7, -5, -3, -1, 0, 2, 4, 6], 6))  # Output: [1, 4, 9, 16, 25, 36]\n",
    "print(sorted_squared_array([-7, -3, 2, 3, 11], 6))                      # Output: [4, 9, 9, 49]\n",
    "print(sorted_squared_array([-8, -6, -5, -4, -3, -1], 6))                # Output: [1, 9, 16, 25, 36]\n",
    "print(sorted_squared_array([1, 3, 5, 7, 9], 6))                         # Output: [1, 9, 25]\n"
   ]
  },
  {
   "cell_type": "markdown",
   "metadata": {},
   "source": [
    "### 3. Code Challenge 3\n",
    "\n",
    "Given an array of positive integers representing the values of coins in your possession, write a function that returns the minimum amount of change (the minimum sum of money) that you CANNOT give change. The given coins can have any positive integer value and aren't necessarily unique (i.e., you can have multiple coins of the same value). **You can use built-in sort of your language.**"
   ]
  },
  {
   "cell_type": "markdown",
   "metadata": {},
   "source": [
    "#### Análisis del Problema\n"
   ]
  },
  {
   "cell_type": "markdown",
   "metadata": {},
   "source": [
    "El problema consiste en encontrar la cantidad mínima de cambio que no se puede crear con un conjunto dado de monedas. La solución debe devolver el monto más pequeño que no se puede obtener sumando combinaciones de las monedas disponibles."
   ]
  },
  {
   "cell_type": "markdown",
   "metadata": {},
   "source": [
    "#### Diseño del Problema"
   ]
  },
  {
   "cell_type": "markdown",
   "metadata": {},
   "source": [
    "**Entradas:**\n",
    "1. Una lista de enteros positivos que representan los valores de las monedas: \\( coins \\).\n",
    "\n",
    "**Salidas:**\n",
    "1. Un entero que representa la cantidad mínima de cambio que no se puede formar con las monedas dadas."
   ]
  },
  {
   "cell_type": "markdown",
   "metadata": {},
   "source": [
    "#### Algoritmo: `minimum_unreachable_change`"
   ]
  },
  {
   "cell_type": "markdown",
   "metadata": {},
   "source": [
    "Este algoritmo sigue estos pasos:\n",
    "1. Ordenar la lista de monedas en orden ascendente.\n",
    "2. Inicializar `current_change` en 1, que representa la menor cantidad de cambio que no se puede crear inicialmente.\n",
    "3. Recorrer la lista de monedas:\n",
    "   - Si el valor de la moneda actual es mayor que `current_change`, no se puede formar `current_change` con las monedas disponibles y se rompe el bucle.\n",
    "   - De lo contrario, se añade el valor de la moneda actual a `current_change`.\n",
    "4. Devolver el valor de `current_change`.\n",
    "\n",
    "```python\n",
    "def minimum_unreachable_change(coins):\n",
    "    # Ordenar el arreglo de monedas\n",
    "    coins.sort()\n",
    "    \n",
    "    # Se inicializa la cantidad más pequeña de cambio que no podemos crear (en este caso 1)\n",
    "    current_change = 1\n",
    "    \n",
    "    # Se itera sobre el arreglo de monedas ordenado\n",
    "    for coin in coins:\n",
    "        # Si la moneda actual es mayor que el cambio más pequeño actual\n",
    "        # No podemos crear este cambio actual.\n",
    "        if coin > current_change:\n",
    "            break\n",
    "        # De lo contrario, sumamos el valor de la moneda al cambio actual.\n",
    "        current_change += coin\n",
    "    \n",
    "    return current_change\n",
    "```"
   ]
  },
  {
   "cell_type": "markdown",
   "metadata": {},
   "source": [
    "##### Invariante\n",
    "1. `current_change` siempre representa el menor monto de cambio que no se puede formar con las monedas vistas hasta el momento.\n",
    "2. El bucle recorre todas las monedas ordenadas, asegurando que `current_change` se actualiza adecuadamente para cada moneda.\n",
    "3. Si se encuentra una moneda mayor que `current_change`, se termina el bucle y `current_change` es el resultado.\n",
    "\n",
    "##### Análisis de Complejidad\n",
    "- **Ordenar las monedas:** Ordenar la lista de monedas toma \\( O(n * log (n)) \\), donde \\( n \\) es la cantidad de monedas.\n",
    "- **Bucle principal:** El bucle `for` recorre todas las monedas una vez, tomando \\( O(n) \\).\n",
    "- **Comparaciones y asignaciones dentro del bucle:** Cada operación dentro del bucle toma \\( O(1) \\).\n",
    "\n",
    "Por lo tanto, la complejidad total del algoritmo `minimum_unreachable_change` es \\( O(n * log (n)) \\)."
   ]
  },
  {
   "cell_type": "markdown",
   "metadata": {},
   "source": [
    "#### Implementación"
   ]
  },
  {
   "cell_type": "code",
   "execution_count": 8,
   "metadata": {},
   "outputs": [
    {
     "name": "stdout",
     "output_type": "stream",
     "text": [
      "1\n",
      "4\n",
      "6\n",
      "21\n",
      "20\n",
      "27\n"
     ]
    }
   ],
   "source": [
    "def minimum_unreachable_change(coins):\n",
    "    # Ordenar el arreglo de monedas\n",
    "    coins.sort()\n",
    "    \n",
    "    # Se inicializa la cantidad más pequeña de cambio que no podemos crear (en este caso 1)\n",
    "    current_change = 1\n",
    "    \n",
    "    # Se itera sobre el arreglo de monedas ordenado\n",
    "    for coin in coins:\n",
    "        # Si la moneda actual es mayor que el cambio más pequeño actual\n",
    "        # No podemos crear este cambio actual.\n",
    "        if coin > current_change:\n",
    "            break\n",
    "        # De lo contrario, sumamos el valor de la moneda al cambio actual.\n",
    "        current_change += coin\n",
    "    \n",
    "    return current_change\n",
    "\n",
    "# Caso de prueba\n",
    "print(minimum_unreachable_change([]))                       # Output: 1\n",
    "print(minimum_unreachable_change([1, 2, 5]))                # Output: 4\n",
    "print(minimum_unreachable_change([1, 1, 1, 1, 1]))          # Output: 6\n",
    "print(minimum_unreachable_change([1, 2, 2, 5, 10]))         # Output: 21\n",
    "print(minimum_unreachable_change([5, 7, 1, 1, 2, 3, 22]))   # Output: 20\n",
    "print(minimum_unreachable_change([1, 1, 3, 4, 7, 10]))      # Output: 27"
   ]
  }
 ],
 "metadata": {
  "kernelspec": {
   "display_name": "Python 3",
   "language": "python",
   "name": "python3"
  },
  "language_info": {
   "codemirror_mode": {
    "name": "ipython",
    "version": 3
   },
   "file_extension": ".py",
   "mimetype": "text/x-python",
   "name": "python",
   "nbconvert_exporter": "python",
   "pygments_lexer": "ipython3",
   "version": "3.12.3"
  }
 },
 "nbformat": 4,
 "nbformat_minor": 2
}
